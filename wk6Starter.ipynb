{
  "nbformat": 4,
  "nbformat_minor": 0,
  "metadata": {
    "colab": {
      "provenance": [],
      "include_colab_link": true
    },
    "kernelspec": {
      "name": "python3",
      "display_name": "Python 3"
    },
    "language_info": {
      "name": "python"
    }
  },
  "cells": [
    {
      "cell_type": "markdown",
      "metadata": {
        "id": "view-in-github",
        "colab_type": "text"
      },
      "source": [
        "<a href=\"https://colab.research.google.com/github/Ekiiio/week6/blob/main/wk6Starter.ipynb\" target=\"_parent\"><img src=\"https://colab.research.google.com/assets/colab-badge.svg\" alt=\"Open In Colab\"/></a>"
      ]
    },
    {
      "cell_type": "code",
      "execution_count": 23,
      "metadata": {
        "id": "Jx7tQYA0d1Ly",
        "outputId": "b396c822-7355-4c64-e88b-af4a0a9ac996",
        "colab": {
          "base_uri": "https://localhost:8080/"
        }
      },
      "outputs": [
        {
          "output_type": "stream",
          "name": "stdout",
          "text": [
            "Price           Close       High        Low       Open    Volume\n",
            "Ticker             GS         GS         GS         GS        GS\n",
            "Date                                                            \n",
            "1999-05-04  49.445190  54.275538  49.181717  53.397293  22320900\n",
            "1999-05-05  48.566956  49.093903  46.546992  49.093903   7565700\n",
            "1999-05-06  47.732616  48.742598  47.117845  47.776529   2905700\n",
            "1999-05-07  52.079922  52.606869  46.898277  47.732610   4862300\n",
            "1999-05-10  49.664738  51.640788  49.357352  51.552964   2589400\n"
          ]
        }
      ],
      "source": [
        "import yfinance as yf\n",
        "import pandas as pd\n",
        "\n",
        "def YahooData2returns(YahooData):\n",
        "    adj_close_prices = YahooData['Adj Close'].dropna().values\n",
        "\n",
        "    n = len(adj_close_prices)\n",
        "    ratiovec = adj_close_prices[1:n] / adj_close_prices[:n-1]\n",
        "    returns = ratiovec - 1\n",
        "    return returns\n",
        "\n",
        "def get_stock_data(symbol):\n",
        "    data = yf.download(symbol, progress=False)\n",
        "    return data\n",
        "\n",
        "\n",
        "prices = get_stock_data('GS')\n",
        "\n",
        "print(prices.head())\n",
        "\n",
        "if not prices.empty and 'Adj Close' in prices.columns:\n",
        "    pricevec = prices['Adj Close'].dropna().values\n",
        "    returns = YahooData2returns(prices)\n",
        "    if returns is not None:\n",
        "        print(returns)\n"
      ]
    },
    {
      "cell_type": "code",
      "execution_count": 10,
      "metadata": {
        "id": "1R3_8XRRISt0"
      },
      "outputs": [],
      "source": [
        "import numpy as np\n",
        "import matplotlib.pyplot as plt\n",
        "from scipy.stats import norm\n",
        "\n",
        "# Part 2 - given a set of returns calculate the VaR and allow for\n",
        "# the notional amount to be an input variable \"principal with\" a default value of 1\n",
        "# 2 points\n",
        "\n",
        "def VaR(r, confidence, principal = 1):\n",
        "    # This function returns the left tail value and displays a histogram\n",
        "    # r = a vector of stock returns\n",
        "    # principal = investment initial value\n",
        "    var_percentile = np.percentile(r, (1 - confidence) * 100)\n",
        "    out = principal * abs(var_percentile)\n",
        "    # out = principal * positively stated value of r at the 1-alpha percentile\n",
        "    return out\n",
        "\n",
        "# Partial demonstration\n",
        "def percent_var(r, confidence):\n",
        "    # This function returns the left tail value and displays a histogram\n",
        "    # r = a vector of stock percent returns\n",
        "    # out = positively stated value of r at the 1-alpha percentile\n",
        "\n",
        "    plt.hist(r, bins=50, alpha=0.75)\n",
        "    plt.show()\n",
        "\n",
        "    out = np.percentile(r, (1 - confidence) * 100)  # Calculate the percentile\n",
        "    return abs(out)  # Return the absolute value of the calculated percentile\n",
        "\n",
        "# Example tools: percentile\n",
        "returns = np.random.normal(0, 1, 10000)\n",
        "print(np.percentile(returns, 97.72))\n",
        "\n",
        "# Unit test\n",
        "r = np.random.normal(0.05, 0.03, 1000000)\n",
        "probability2SD = norm.cdf(2)  # Probability under normal curve within 2 standard deviations\n",
        "\n",
        "my_confidence = probability2SD\n",
        "my_percent_var = percent_var(r, my_confidence )\n",
        "print(np.round(my_percent_var, 2) == 0.01)"
      ]
    },
    {
      "cell_type": "code",
      "source": [
        "import numpy as np\n",
        "import matplotlib.pyplot as plt\n",
        "from scipy.stats import norm\n",
        "\n",
        "# Part 2 - given a set of returns calculate the VaR and allow for\n",
        "# the notional amount to be an input variable \"principal\" with a default value of 1\n",
        "# 2 points\n",
        "\n",
        "def VaR(r, confidence, principal=1):\n",
        "    # This function returns the left tail value and displays a histogram\n",
        "    # r = a vector of stock returns\n",
        "    # principal = investment initial value\n",
        "    var_percentile = np.percentile(r, (1 - confidence) * 100)\n",
        "    out = principal * abs(var_percentile)\n",
        "    # out = principal * positively stated value of r at the 1-alpha percentile\n",
        "\n",
        "    # Display histogram with VaR marked\n",
        "    plt.hist(r, bins=50, alpha=0.75)\n",
        "    plt.axvline(-var_percentile, color='red', linestyle='dashed', linewidth=2, label=f'VaR ({confidence * 100}%)')\n",
        "    plt.xlabel(\"Returns\")\n",
        "    plt.ylabel(\"Frequency\")\n",
        "    plt.title(f\"Histogram of Returns with {confidence * 100}% VaR\")\n",
        "    plt.legend()\n",
        "    plt.show()\n",
        "\n",
        "    return out\n",
        "\n",
        "# Partial demonstration\n",
        "def percent_var(r, confidence):\n",
        "    # This function returns the left tail value and displays a histogram\n",
        "    # r = a vector of stock percent returns\n",
        "    # out = positively stated value of r at the 1-alpha percentile\n",
        "\n",
        "    plt.hist(r, bins=50, alpha=0.75)\n",
        "    plt.show()\n",
        "\n",
        "    out = np.percentile(r, (1 - confidence) * 100)  # Calculate the percentile\n",
        "    return abs(out)  # Return the absolute value of the calculated percentile\n",
        "\n",
        "# Example tools: percentile\n",
        "returns = np.random.normal(0, 1, 10000)\n",
        "print(np.percentile(returns, 97.72))\n",
        "\n",
        "# Unit test\n",
        "r = np.random.normal(0.05, 0.03, 1000000)\n",
        "probability2SD = norm.cdf(2)  # Probability under normal curve within 2 standard deviations\n",
        "\n",
        "my_confidence = probability2SD\n",
        "my_percent_var = percent_var(r, my_confidence)\n",
        "print(np.round(my_percent_var, 2) == 0.01)\n",
        "\n",
        "# Compute VaR\n",
        "confidence_level = 0.95  # 95% confidence level\n",
        "principal_amount = 10000  # Investment principal $10,000\n",
        "VaR_value = VaR(r, confidence_level, principal_amount)\n",
        "\n",
        "# Display results\n",
        "print(f\"{confidence_level * 100}% confidence level VaR (Principal ${principal_amount}): ${VaR_value:.2f}\")\n",
        "\n",
        "\n"
      ],
      "metadata": {
        "id": "DYvpB0gsyfeS",
        "outputId": "d9961684-32ba-4892-937e-93b78e4aa672",
        "colab": {
          "base_uri": "https://localhost:8080/",
          "height": 939
        }
      },
      "execution_count": 14,
      "outputs": [
        {
          "output_type": "stream",
          "name": "stdout",
          "text": [
            "2.0031709355776317\n"
          ]
        },
        {
          "output_type": "display_data",
          "data": {
            "text/plain": [
              "<Figure size 640x480 with 1 Axes>"
            ],
            "image/png": "[encoded data removed]"
          },
          "metadata": {}
        },
        {
          "output_type": "stream",
          "name": "stdout",
          "text": [
            "True\n"
          ]
        },
        {
          "output_type": "display_data",
          "data": {
            "text/plain": [
              "<Figure size 640x480 with 1 Axes>"
            ],
            "image/png": "[encoded data removed]"
          },
          "metadata": {}
        },
        {
          "output_type": "stream",
          "name": "stdout",
          "text": [
            "95.0% confidence level VaR (Principal $10000): $6.80\n"
          ]
        }
      ]
    },
    {
      "cell_type": "code",
      "execution_count": 40,
      "metadata": {
        "outputId": "75471aee-af1b-4f59-effd-2229def4ed1a",
        "colab": {
          "base_uri": "https://localhost:8080/"
        },
        "id": "s9go6Gfbtivs"
      },
      "outputs": [
        {
          "output_type": "stream",
          "name": "stdout",
          "text": [
            "ES with confidence: True\n",
            "ES with VaR: True\n"
          ]
        }
      ],
      "source": [
        "import numpy as np\n",
        "\n",
        "# Part 3 - given a set of returns calculate the ES and allow for\n",
        "# the notional amount to be an input variable \"principal with\" a default value of 1\n",
        "# 2 points\n",
        "\n",
        "def ES(losses, confidence=None, VaR=None, use_PnL=False):\n",
        "    \"\"\"\n",
        "    Calculate the Expected Shortfall (ES) of losses.\n",
        "\n",
        "    losses: array of positively stated loss values\n",
        "    confidence: risk level (e.g., 0.99 for 99%)\n",
        "    VaR: dollar value specifying the VaR threshold\n",
        "\n",
        "    return Expected Shortfall as the average of losses exceeding VaR\n",
        "    \"\"\"\n",
        "    if VaR is None:\n",
        "        # If VaR is not provided, determine VaR based on the confidence percentile\n",
        "        VaR = np.percentile(losses, 100 * confidence)\n",
        "\n",
        "    # Calculate ES as the average of losses exceeding the VaR threshold\n",
        "    es_value = np.mean(losses[losses > VaR])\n",
        "    return es_value\n",
        "\n",
        "# Unit test\n",
        "u = np.random.uniform(0, 100, 100000)\n",
        "\n",
        "# Test the ES function with an confidence of 0.8\n",
        "es_confidence = ES(losses=u, confidence=0.8)\n",
        "print('ES with confidence:', np.round(es_confidence, 0) == 90)\n",
        "\n",
        "# Test the ES function with a VaR of 80\n",
        "es_var = ES(losses=u, VaR=80)\n",
        "print('ES with VaR:', np.round(es_var, 0) == 90)\n",
        "\n",
        "\n"
      ]
    },
    {
      "cell_type": "code",
      "source": [
        "import numpy as np\n",
        "\n",
        "# Part 3 - given a set of returns calculate the ES and allow for\n",
        "# the notional amount to be an input variable \"principal\" with a default value of 1\n",
        "# 2 points\n",
        "\n",
        "def ES(losses, confidence=None, VaR=None, principal=1, use_PnL=False):\n",
        "    \"\"\"\n",
        "    Calculate the Expected Shortfall (ES) of losses.\n",
        "\n",
        "    losses: array of positively stated loss values\n",
        "    confidence: risk level (e.g., 0.99 for 99%)\n",
        "    VaR: dollar value specifying the VaR threshold\n",
        "    principal: investment initial value (default = 1)\n",
        "    use_PnL: if True, treat losses as PnL (profit and loss) and convert to absolute losses\n",
        "\n",
        "    return Expected Shortfall as the average of losses exceeding VaR\n",
        "    \"\"\"\n",
        "    if use_PnL:\n",
        "        losses = -losses  # Convert PnL to absolute losses\n",
        "\n",
        "    if VaR is None:\n",
        "        # If VaR is not provided, determine VaR based on the confidence percentile\n",
        "        VaR = np.percentile(losses, 100 * confidence)\n",
        "\n",
        "    # Calculate ES as the average of losses exceeding the VaR threshold\n",
        "    es_value = np.mean(losses[losses > VaR])\n",
        "\n",
        "    return es_value\n",
        "\n",
        "# Unit test\n",
        "u = np.random.uniform(0, 100, 100000)\n",
        "\n",
        "# Test the ES function with an confidence of 0.8\n",
        "es_confidence = ES(losses=u, confidence=0.8)\n",
        "print('ES with confidence:', np.round(es_confidence, 0) == 90)\n",
        "\n",
        "# Test the ES function with a VaR of 80\n",
        "es_var = ES(losses=u, VaR=80)\n",
        "print('ES with VaR:', np.round(es_var, 0) == 90)\n",
        "\n",
        "# Test ES with a specified principal amount\n",
        "principal_amount = 10000\n",
        "es_with_principal = ES(losses=u, confidence=0.8) * principal_amount\n",
        "print(f'Expected Shortfall with principal ${principal_amount}: ${es_with_principal:.2f}')\n",
        "\n",
        "# Test ES with PnL data\n",
        "pnl_data = np.random.normal(0, 1, 100000)\n",
        "es_pnl = ES(losses=pnl_data, confidence=0.95, use_PnL=True)\n",
        "print(f'ES with PnL data: {es_pnl:.2f}')\n",
        "\n",
        "\n"
      ],
      "metadata": {
        "id": "Bw2PXSdkwh7b",
        "outputId": "44f66e56-0a5f-4257-9b83-5b77e9bd40e0",
        "colab": {
          "base_uri": "https://localhost:8080/"
        }
      },
      "execution_count": 69,
      "outputs": [
        {
          "output_type": "stream",
          "name": "stdout",
          "text": [
            "ES with confidence: True\n",
            "ES with VaR: True\n",
            "Expected Shortfall with principal $10000: $899151.11\n",
            "ES with PnL data: 2.08\n"
          ]
        }
      ]
    },
    {
      "cell_type": "code",
      "source": [
        "# Problem 4 - 2 points\n",
        "# Given a stock symbol get the returns and calculate the .99 %-ile VaR on a $1MM investment\n",
        "def VaRStock(symbol, confidence=.95, principal = 1,start=\"2020-01-01\", end=\"2025-02-01\"):\n",
        "\n",
        "  # Get prices using functions defined above above\n",
        "  returns = YahooData2returns(symbol,start,end)\n",
        "\n",
        "\n",
        "  # Feed returns into VaR function\n",
        "  var=VaR(returns, confidence, principal = 1)\n",
        "\n",
        "  return(var)"
      ],
      "metadata": {
        "id": "oSaZgVYvtrdi"
      },
      "execution_count": null,
      "outputs": []
    },
    {
      "cell_type": "code",
      "source": [
        "import numpy as np\n",
        "import yfinance as yf\n",
        "import matplotlib.pyplot as plt\n",
        "\n",
        "# Problem 4 - 2 points\n",
        "# Given a stock symbol get the returns and calculate the .99 %-ile VaR on a $1MM investment\n",
        "\n",
        "def YahooData2returns(symbol, start, end):\n",
        "    stock_data = yf.download(symbol, start=start, end=end)\n",
        "\n",
        "    if stock_data.empty:\n",
        "        raise ValueError(f\"Error: Unable to download {symbol} stock data. Please check the ticker or date range.\")\n",
        "\n",
        "    # Use 'Adj Close' if available, otherwise use 'Close'\n",
        "    if 'Adj Close' in stock_data.columns:\n",
        "        prices = stock_data['Adj Close']\n",
        "    elif 'Close' in stock_data.columns:\n",
        "        prices = stock_data['Close']\n",
        "    else:\n",
        "        raise ValueError(\"Error: Stock data does not contain 'Adj Close' or 'Close'. Please check the data format.\")\n",
        "\n",
        "    # Compute daily returns\n",
        "    returns = prices.pct_change().dropna().values\n",
        "\n",
        "    return returns\n",
        "\n",
        "def VaR(r, confidence, principal=1):\n",
        "    var_percentile = np.percentile(r, (1 - confidence) * 100)\n",
        "    out = principal * abs(var_percentile)\n",
        "    return out\n",
        "\n",
        "def VaRStock(symbol, confidence=0.99, principal=1_000_000, start=\"2020-01-01\", end=\"2025-02-01\"):\n",
        "    # Get returns using YahooData2returns function\n",
        "    returns = YahooData2returns(symbol, start, end)\n",
        "\n",
        "    # Feed returns into VaR function\n",
        "    var = VaR(returns, confidence, principal)\n",
        "\n",
        "    return var\n",
        "\n",
        "# Symbol\n",
        "symbol = \"NVDA\"\n",
        "var_result = VaRStock(symbol)\n",
        "print(f\"99% Confidence Level VaR for {symbol} on a $1MM investment: ${var_result:.2f}\")\n"
      ],
      "metadata": {
        "id": "-k9T1y25KyFZ",
        "outputId": "5eede9d9-397c-48cf-ede2-1a74f3285bc8",
        "colab": {
          "base_uri": "https://localhost:8080/"
        }
      },
      "execution_count": 81,
      "outputs": [
        {
          "output_type": "stream",
          "name": "stderr",
          "text": [
            "\r[*********************100%***********************]  1 of 1 completed"
          ]
        },
        {
          "output_type": "stream",
          "name": "stdout",
          "text": [
            "99% Confidence Level VaR for NVDA on a $1MM investment: $77540.32\n"
          ]
        },
        {
          "output_type": "stream",
          "name": "stderr",
          "text": [
            "\n"
          ]
        }
      ]
    },
    {
      "cell_type": "code",
      "source": [
        "# Problem 5 - 2 points\n",
        "# Given a stock symbol get the returns and calculate the .975 %-ile ES (expected shortfall) on a $1MM investment\n",
        "\n",
        "# Get returns for stock using function above\n",
        "\n",
        "# Calculate .975 %-ile and seleect returns\n",
        "\n"
      ],
      "metadata": {
        "id": "d_liKM_cwvh5"
      },
      "execution_count": null,
      "outputs": []
    },
    {
      "cell_type": "code",
      "source": [
        "import numpy as np\n",
        "import yfinance as yf\n",
        "\n",
        "# Function to fetch stock data and compute returns\n",
        "def YahooData2returns(symbol, start, end):\n",
        "    stock_data = yf.download(symbol, start=start, end=end)\n",
        "\n",
        "    # Use 'Adj Close' if available, otherwise use 'Close'\n",
        "    if 'Adj Close' in stock_data.columns:\n",
        "        prices = stock_data['Adj Close']\n",
        "    elif 'Close' in stock_data.columns:\n",
        "        prices = stock_data['Close']\n",
        "    else:\n",
        "        raise ValueError(\"Error: Stock data does not contain 'Adj Close' or 'Close'.\")\n",
        "\n",
        "    # Compute daily returns\n",
        "    returns = prices.pct_change().dropna().values\n",
        "\n",
        "    return returns\n",
        "\n",
        "# Function to compute Expected Shortfall (ES)\n",
        "def ES(returns, confidence=0.975, principal=1_000_000):\n",
        "    # Calculate VaR at (1 - confidence) percentile\n",
        "    VaR = np.percentile(returns, (1 - confidence) * 100)\n",
        "\n",
        "    # Compute ES as the average loss beyond VaR\n",
        "    es_value = np.mean(returns[returns < VaR])\n",
        "\n",
        "    # Scale ES by the investment principal\n",
        "    return principal * abs(es_value)\n",
        "\n",
        "# Function to get stock returns and compute ES\n",
        "def ESStock(symbol, confidence=0.975, principal=1_000_000, start=\"2020-01-01\", end=\"2025-02-01\"):\n",
        "    # Get returns for stock using function above\n",
        "    returns = YahooData2returns(symbol, start, end)\n",
        "\n",
        "    # Calculate ES\n",
        "    es = ES(returns, confidence, principal)\n",
        "\n",
        "    return es\n",
        "\n",
        "# Symbol\n",
        "symbol = \"GOOG\"\n",
        "es_result = ESStock(symbol)\n",
        "print(f\"97.5% Confidence Level ES for {symbol} on a $1MM investment: ${es_result:.2f}\")\n"
      ],
      "metadata": {
        "id": "vWqbDaoCN6S9",
        "outputId": "d7dfc997-d83e-45a1-c5ff-5430d7bb57d4",
        "colab": {
          "base_uri": "https://localhost:8080/"
        }
      },
      "execution_count": 85,
      "outputs": [
        {
          "output_type": "stream",
          "name": "stderr",
          "text": [
            "\r[*********************100%***********************]  1 of 1 completed"
          ]
        },
        {
          "output_type": "stream",
          "name": "stdout",
          "text": [
            "97.5% Confidence Level ES for GOOG on a $1MM investment: $56717.47\n"
          ]
        },
        {
          "output_type": "stream",
          "name": "stderr",
          "text": [
            "\n"
          ]
        }
      ]
    }
  ]
}