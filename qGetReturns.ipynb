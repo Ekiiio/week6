{
  "nbformat": 4,
  "nbformat_minor": 0,
  "metadata": {
    "colab": {
      "provenance": [],
      "include_colab_link": true
    },
    "kernelspec": {
      "name": "python3",
      "display_name": "Python 3"
    },
    "language_info": {
      "name": "python"
    }
  },
  "cells": [
    {
      "cell_type": "markdown",
      "metadata": {
        "id": "view-in-github",
        "colab_type": "text"
      },
      "source": [
        "<a href=\"https://colab.research.google.com/github/Ekiiio/week6/blob/main/qGetReturns.ipynb\" target=\"_parent\"><img src=\"https://colab.research.google.com/assets/colab-badge.svg\" alt=\"Open In Colab\"/></a>"
      ]
    },
    {
      "cell_type": "code",
      "execution_count": 11,
      "metadata": {
        "id": "Jx7tQYA0d1Ly",
        "outputId": "4c7da180-0ee1-4781-e72f-674ef166ade2",
        "colab": {
          "base_uri": "https://localhost:8080/"
        }
      },
      "outputs": [
        {
          "output_type": "stream",
          "name": "stderr",
          "text": [
            "\r[*********************100%***********************]  1 of 1 completed"
          ]
        },
        {
          "output_type": "stream",
          "name": "stdout",
          "text": [
            "<class 'pandas.core.frame.DataFrame'>\n",
            "[[-0.0177619 ]\n",
            " [-0.01717943]\n",
            " [ 0.09107681]\n",
            " ...\n",
            " [-0.0259397 ]\n",
            " [ 0.00086323]\n",
            " [-0.01793535]]\n"
          ]
        },
        {
          "output_type": "stream",
          "name": "stderr",
          "text": [
            "\n"
          ]
        }
      ],
      "source": [
        "import yfinance as yf\n",
        "import pandas as pd\n",
        "\n",
        "def YahooData2returns(YahooData):\n",
        "    # YahooData = data from Yahoo Finance\n",
        "    # Steps:\n",
        "    # Extract 'Adj Close' column\n",
        "    # Extract values from 'Adj Close' column to transform to a simple array\n",
        "    # Calculate and return the lagged returns\n",
        "\n",
        "def get_stock_data(symbol):\n",
        "    data = yf.download(symbol)\n",
        "    prices = data['Close']\n",
        "    return prices\n",
        "\n",
        "# Example usage\n",
        "prices = get_stock_data('GS')\n",
        "print(type(prices))\n",
        "pricevec = prices.values\n",
        "\n",
        "# Compute the returns\n",
        "n = len(pricevec)\n",
        "ratiovec = pricevec[1:n] / pricevec[:n-1]\n",
        "\n",
        "def get_returns(pricevec):\n",
        "    n = len(pricevec)\n",
        "    ratiovec = pricevec[1:n] / pricevec[:n-1]\n",
        "    returns = ratiovec - 1  # assuming the return calculation is (price_t / price_t-1) - 1\n",
        "    return returns\n",
        "\n",
        "# Example of using get_returns\n",
        "returns = get_returns(pricevec)\n",
        "print(returns)\n",
        "\n",
        "# Steps\n",
        "# Download data\n",
        "# Extract 'Adj Close' column\n",
        "# Extract values from 'Adj Close' column to transform to a simple array\n",
        "# Calculate and return the lagged returns\n"
      ]
    },
    {
      "cell_type": "code",
      "source": [],
      "metadata": {
        "id": "rP9F0qeqIIhT"
      },
      "execution_count": null,
      "outputs": []
    }
  ]
}