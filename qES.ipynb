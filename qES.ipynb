{
  "nbformat": 4,
  "nbformat_minor": 0,
  "metadata": {
    "colab": {
      "provenance": [],
      "authorship_tag": "ABX9TyO/J6ZxLTi99drFVGQ/ttVP",
      "include_colab_link": true
    },
    "kernelspec": {
      "name": "python3",
      "display_name": "Python 3"
    },
    "language_info": {
      "name": "python"
    }
  },
  "cells": [
    {
      "cell_type": "markdown",
      "metadata": {
        "id": "view-in-github",
        "colab_type": "text"
      },
      "source": [
        "<a href=\"https://colab.research.google.com/github/tleitchColumbia/week6/blob/main/qES.ipynb\" target=\"_parent\"><img src=\"https://colab.research.google.com/assets/colab-badge.svg\" alt=\"Open In Colab\"/></a>"
      ]
    },
    {
      "cell_type": "code",
      "execution_count": null,
      "metadata": {
        "id": "Jx7tQYA0d1Ly"
      },
      "outputs": [],
      "source": [
        "import numpy as np\n",
        "\n",
        "def ES(losses, confidence=None, VaR=None, use_PnL=False):\n",
        "    \"\"\"\n",
        "    Calculate the Expected Shortfall (ES) of losses.\n",
        "\n",
        "    losses: array of positively stated loss values\n",
        "    confidence: risk level (e.g., 0.99 for 99%)\n",
        "    VaR: dollar value specifying the VaR threshold\n",
        "\n",
        "    return Expected Shortfall as the average of losses exceeding VaR\n",
        "    \"\"\"\n",
        "    if VaR is None:\n",
        "        # If VaR is not provided, determine VaR based on the confidence percentile\n",
        "        VaR = np.percentile(losses, 100 * confidence)\n",
        "\n",
        "    # Calculate ES as the average of losses exceeding the VaR threshold\n",
        "    es_value = np.mean(losses[losses > VaR])\n",
        "    return es_value\n",
        "\n",
        "# Unit test\n",
        "u = np.random.uniform(0, 100, 100000)\n",
        "\n",
        "# Test the ES function with an confidence of 0.8\n",
        "es_confidence = es(losses=u, confidence=0.8)\n",
        "print('ES with confidence:', np.round(es_confidence, 0) == 90)\n",
        "\n",
        "# Test the ES function with a VaR of 80\n",
        "es_var = es(losses=u, VaR=80)\n",
        "print('ES with VaR:', np.round(es_var, 0) == 90)\n",
        "\n",
        "\n"
      ]
    }
  ]
}